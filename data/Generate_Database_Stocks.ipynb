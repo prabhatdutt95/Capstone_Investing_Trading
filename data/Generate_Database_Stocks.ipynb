{
  "nbformat": 4,
  "nbformat_minor": 0,
  "metadata": {
    "colab": {
      "name": "Create_Database_Stock.ipynb",
      "provenance": [],
      "collapsed_sections": []
    },
    "kernelspec": {
      "display_name": "Python 3",
      "name": "python3",
      "language": "python"
    }
  },
  "cells": [
    {
      "cell_type": "code",
      "metadata": {
        "id": "I-d3hR30sELo"
      },
      "source": [
        "# import libraries\n",
        "import math\n",
        "from datetime import date, timedelta\n",
        "import pandas_datareader as web\n",
        "import numpy as np\n",
        "import pandas as pd\n",
        "from sqlalchemy import create_engine\n",
        "\n",
        "from sklearn.preprocessing import MinMaxScaler\n",
        "from keras.models import Sequential\n",
        "from keras.layers import Dense, LSTM\n"
      ],
      "execution_count": 1,
      "outputs": [
        {
          "output_type": "error",
          "ename": "ModuleNotFoundError",
          "evalue": "No module named 'sklearn'",
          "traceback": [
            "\u001b[1;31m---------------------------------------------------------------------------\u001b[0m",
            "\u001b[1;31mModuleNotFoundError\u001b[0m                       Traceback (most recent call last)",
            "\u001b[1;32m<ipython-input-1-14e61a93161a>\u001b[0m in \u001b[0;36m<module>\u001b[1;34m\u001b[0m\n\u001b[0;32m      7\u001b[0m \u001b[1;32mfrom\u001b[0m \u001b[0msqlalchemy\u001b[0m \u001b[1;32mimport\u001b[0m \u001b[0mcreate_engine\u001b[0m\u001b[1;33m\u001b[0m\u001b[1;33m\u001b[0m\u001b[0m\n\u001b[0;32m      8\u001b[0m \u001b[1;33m\u001b[0m\u001b[0m\n\u001b[1;32m----> 9\u001b[1;33m \u001b[1;32mfrom\u001b[0m \u001b[0msklearn\u001b[0m\u001b[1;33m.\u001b[0m\u001b[0mpreprocessing\u001b[0m \u001b[1;32mimport\u001b[0m \u001b[0mMinMaxScaler\u001b[0m\u001b[1;33m\u001b[0m\u001b[1;33m\u001b[0m\u001b[0m\n\u001b[0m\u001b[0;32m     10\u001b[0m \u001b[1;32mfrom\u001b[0m \u001b[0mkeras\u001b[0m\u001b[1;33m.\u001b[0m\u001b[0mmodels\u001b[0m \u001b[1;32mimport\u001b[0m \u001b[0mSequential\u001b[0m\u001b[1;33m\u001b[0m\u001b[1;33m\u001b[0m\u001b[0m\n\u001b[0;32m     11\u001b[0m \u001b[1;32mfrom\u001b[0m \u001b[0mkeras\u001b[0m\u001b[1;33m.\u001b[0m\u001b[0mlayers\u001b[0m \u001b[1;32mimport\u001b[0m \u001b[0mDense\u001b[0m\u001b[1;33m,\u001b[0m \u001b[0mLSTM\u001b[0m\u001b[1;33m\u001b[0m\u001b[1;33m\u001b[0m\u001b[0m\n",
            "\u001b[1;31mModuleNotFoundError\u001b[0m: No module named 'sklearn'"
          ]
        }
      ]
    },
    {
      "cell_type": "code",
      "metadata": {
        "colab": {
          "base_uri": "https://localhost:8080/"
        },
        "id": "koigEESosGnR",
        "outputId": "58752295-21ca-4f1b-c7cc-8a3fe7483e09"
      },
      "source": [
        "def get_dates():\n",
        "    \"\"\"\n",
        "    I will be considering dates of stock ranging from current date(today) to 600 days from current day for      analysis.\n",
        "    Args: None\n",
        "    Returns:\n",
        "    today (date): Today's date\n",
        "    prev_600 (date): Previous 600 day date\n",
        "    \"\"\"\n",
        "    today = date.today()\n",
        "    prev_600 = (today - timedelta(600)).strftime(\"%Y-%m-%d\")\n",
        "    return prev_600, today"
      ],
      "execution_count": 2,
      "outputs": [
        {
          "output_type": "stream",
          "text": [
            "2019-07-16 2021-03-07\n"
          ],
          "name": "stdout"
        }
      ]
    },
    {
      "cell_type": "code",
      "metadata": {
        "id": "uNB2W5GVsKNA"
      },
      "source": [
        "def process_predict_generate_data(stock):\n",
        "  \"\"\"\n",
        "  Prediction for stock are based on the following steps:-\n",
        "   - Creating the dataframe by using YAHOO as datasource, today and prev_600 dates\n",
        "   - Scale the dataframe using MinMaxScaler and Split it into train and test dataset in ratio of 4:1.\n",
        "   - Defining the model. I have used LSTM for this task, which is a variation of Recurrent Neural Network.\n",
        "   - Fit the model by using train dataset\n",
        "   - Predict the stock prices based on test dataset\n",
        "   - Finally store the Date, Actual Price and Prediction price in the database named after Stock\n",
        "   \n",
        "   Args:\n",
        "   stock (string): Name of the stock\n",
        "   Returns:\n",
        "   None; Creates a database containing prediction price\n",
        "  \"\"\"\n",
        "  prev_600, today = get_dates()\n",
        "  df = web.DataReader(stock+'.NS', data_source='yahoo', start=prev_600, end=today)\n",
        "  data = df.filter(['Adj Close']) # prediction for the Adjusted Close price\n",
        "  dataset = data.values\n",
        "  training_data_len = math.ceil(len(dataset)*.8)\n",
        "\n",
        "  # Scaling the data\n",
        "  scaler = MinMaxScaler(feature_range=(0,1))\n",
        "  scaled_data = scaler.fit_transform(dataset)\n",
        "\n",
        "  # Creating training dataset\n",
        "  train_data = scaled_data[0:training_data_len, : ]\n",
        "  x_train = []\n",
        "  y_train = []\n",
        "  for i in range(60, len(train_data)):\n",
        "    x_train.append(train_data[i-60:i, 0])\n",
        "    y_train.append(train_data[i, 0])\n",
        "\n",
        "  x_train, y_train = np.array(x_train), np.array(y_train)\n",
        "  x_train = np.reshape(x_train, (x_train.shape[0], x_train.shape[1], 1))\n",
        "\n",
        "  # Building LSTM model\n",
        "  model = Sequential()\n",
        "  model.add(LSTM(50, return_sequences=True, input_shape=(x_train.shape[1], 1)))\n",
        "  model.add(LSTM(50,return_sequences=False))\n",
        "  model.add(Dense(25))\n",
        "  model.add(Dense(1))\n",
        "  model.compile(optimizer='adam', loss='mean_squared_error')\n",
        "  model.fit(x_train, y_train, batch_size=1, epochs=10, verbose=1)\n",
        "\n",
        "  # Creating testing dataset\n",
        "  test_data = scaled_data[training_data_len - 60: , :]\n",
        "  x_test = []\n",
        "  y_test = dataset[training_data_len:, :]\n",
        "  for i in range(60, len(test_data)):\n",
        "    x_test.append(test_data[i-60:i, 0])\n",
        "  x_test = np.array(x_test)\n",
        "  x_test = np.reshape(x_test, (x_test.shape[0],x_test.shape[1], 1))\n",
        "\n",
        "  #Get the predictions\n",
        "  predictions = model.predict(x_test)\n",
        "  predictions = scaler.inverse_transform(predictions)\n",
        "\n",
        "  train = data[: training_data_len]\n",
        "  valid = data[training_data_len: ]\n",
        "  valid['Predictions'] = predictions\n",
        "  valid['Date'] = valid.index\n",
        "  database_filename = stock+'.db'\n",
        "  engine = create_engine('sqlite:///{}'.format(database_filename))\n",
        "\n",
        "  table_name = database_filename.split('.')[0]\n",
        "  valid.to_sql(table_name, engine, index=False, if_exists = 'replace')"
      ],
      "execution_count": 3,
      "outputs": []
    },
    {
      "cell_type": "code",
      "metadata": {
        "id": "OBWrq4ynyRmr"
      },
      "source": [
        "def generate_database():\n",
        "  \"\"\"\n",
        "  The below listed stocks are in NIFTY50. For each of these stocks, processing and predictions are made and stored in the database\n",
        "  Args: None\n",
        "  Returns:\n",
        "\n",
        "  \"\"\"\n",
        "  stock_data = [\n",
        "  \"ADANIPORTS\",\"ASIANPAINT\",\"AXISBANK\",\"BAJAJ-AUTO\",\n",
        "  \"BAJFINANCE\",\"BAJAJFINSV\",\"BPCL\",\"BHARTIARTL\",\"BRITANNIA\",\n",
        "  \"CIPLA\",\"COALINDIA\",\"DIVISLAB\",\"DRREDDY\",\"EICHERMOT\",\n",
        "  \"GAIL\",\"GRASIM\",\"HCLTECH\",\"HDFCBANK\",\"HDFCLIFE\",\"HEROMOTOCO\",\n",
        "  \"HINDALCO\",\"HINDUNILVR\",\"HDFC\",\"ICICIBANK\",\"ITC\",\"IOC\",\"INDUSINDBK\",\n",
        "  \"INFY\",\"JSWSTEEL\",\"KOTAKBANK\",\"LT\",\"M&M\",\"MARUTI\",\"NTPC\",\"NESTLEIND\",\n",
        "  \"ONGC\",\"POWERGRID\",\"RELIANCE\",\"SBILIFE\",\"SHREECEM\",\"SBIN\",\"SUNPHARMA\",\"TCS\",\n",
        "  \"TATAMOTORS\",\"TATASTEEL\",\"TECHM\",\"TITAN\",\"UPL\",\"ULTRACEMCO\",\"WIPRO\"]\n",
        "  for stock in stock_data:\n",
        "    process_predict_generate_data(stock)\n"
      ],
      "execution_count": 4,
      "outputs": []
    },
    {
      "cell_type": "code",
      "execution_count": null,
      "metadata": {},
      "outputs": [],
      "source": [
        "\"\"\"\n",
        "Function call to generate the database for all thestocks in NIFTY50\n",
        "\"\"\"\n",
        "generate_database()"
      ]
    },
    {
      "cell_type": "code",
      "metadata": {
        "colab": {
          "base_uri": "https://localhost:8080/",
          "height": 1000
        },
        "id": "L4PKtZ7WX21i",
        "outputId": "b5e6ce29-e0d4-4cad-a9d6-66db7b869473"
      },
      "source": [
        "# Compress the list of database into zip filed named as 'data.zip' and finally download it\r\n",
        "!zip -r data.zip .\r\n",
        "from google.colab import files\r\n",
        "\r\n",
        "files.download(\"data.zip\")"
      ],
      "execution_count": 6,
      "outputs": [
        {
          "output_type": "stream",
          "text": [
            "updating: .config/ (stored 0%)\n",
            "updating: .config/logs/ (stored 0%)\n",
            "updating: .config/logs/2021.03.01/ (stored 0%)\n",
            "updating: .config/logs/2021.03.01/14.34.56.151354.log (deflated 53%)\n",
            "updating: .config/logs/2021.03.01/14.35.29.900487.log (deflated 54%)\n",
            "updating: .config/logs/2021.03.01/14.35.09.556851.log (deflated 87%)\n",
            "updating: .config/logs/2021.03.01/14.34.37.071843.log (deflated 92%)\n",
            "updating: .config/logs/2021.03.01/14.35.14.752951.log (deflated 54%)\n",
            "updating: .config/logs/2021.03.01/14.35.29.380461.log (deflated 54%)\n",
            "updating: .config/.last_update_check.json (deflated 25%)\n",
            "updating: .config/config_sentinel (stored 0%)\n",
            "updating: .config/.last_survey_prompt.yaml (stored 0%)\n",
            "updating: .config/.last_opt_in_prompt.yaml (stored 0%)\n",
            "updating: .config/active_config (stored 0%)\n",
            "updating: .config/gce (stored 0%)\n",
            "updating: .config/configurations/ (stored 0%)\n",
            "updating: .config/configurations/config_default (deflated 15%)\n",
            "updating: HINDALCO.db (deflated 82%)\n",
            "updating: KOTAKBANK.db (deflated 82%)\n",
            "updating: SHREECEM.db (deflated 82%)\n",
            "updating: POWERGRID.db (deflated 83%)\n",
            "updating: IOC.db (deflated 82%)\n",
            "updating: INFY.db (deflated 83%)\n",
            "updating: BAJAJ-AUTO.db (deflated 82%)\n",
            "updating: NTPC.db (deflated 83%)\n",
            "updating: TCS.db (deflated 82%)\n",
            "updating: JSWSTEEL.db (deflated 82%)\n",
            "updating: BRITANNIA.db (deflated 82%)\n",
            "updating: DRREDDY.db (deflated 82%)\n",
            "updating: BHARTIARTL.db (deflated 83%)\n",
            "updating: BAJFINANCE.db (deflated 82%)\n",
            "updating: RELIANCE.db (deflated 82%)\n",
            "updating: LT.db (deflated 82%)\n",
            "updating: ONGC.db (deflated 82%)\n",
            "updating: ULTRACEMCO.db (deflated 82%)\n",
            "updating: INDUSINDBK.db (deflated 82%)\n",
            "updating: M&M.db (deflated 82%)\n",
            "updating: NESTLEIND.db (deflated 82%)\n",
            "updating: BAJAJFINSV.db (deflated 82%)\n",
            "updating: SBIN.db (deflated 82%)\n",
            "updating: WIPRO.db (deflated 82%)\n",
            "updating: MARUTI.db (deflated 82%)\n",
            "updating: TATASTEEL.db (deflated 82%)\n",
            "updating: CIPLA.db (deflated 83%)\n",
            "updating: HDFC.db (deflated 82%)\n",
            "updating: GRASIM.db (deflated 82%)\n",
            "updating: SUNPHARMA.db (deflated 82%)\n",
            "updating: .ipynb_checkpoints/ (stored 0%)\n",
            "updating: DIVISLAB.db (deflated 82%)\n",
            "updating: COALINDIA.db (deflated 83%)\n",
            "updating: ADANIPORTS.db (deflated 82%)\n",
            "updating: BPCL.db (deflated 82%)\n",
            "updating: HEROMOTOCO.db (deflated 82%)\n",
            "updating: TITAN.db (deflated 82%)\n",
            "updating: TECHM.db (deflated 82%)\n",
            "updating: HDFCBANK.db (deflated 82%)\n",
            "updating: UPL.db (deflated 82%)\n",
            "updating: HDFCLIFE.db (deflated 83%)\n",
            "updating: GAIL.db (deflated 82%)\n",
            "updating: AXISBANK.db (deflated 82%)\n",
            "updating: ITC.db (deflated 82%)\n",
            "updating: ASIANPAINT.db (deflated 82%)\n",
            "updating: HCLTECH.db (deflated 82%)\n",
            "updating: HINDUNILVR.db (deflated 82%)\n",
            "updating: EICHERMOT.db (deflated 82%)\n",
            "updating: SBILIFE.db (deflated 83%)\n",
            "updating: ICICIBANK.db (deflated 82%)\n",
            "updating: TATAMOTORS.db (deflated 82%)\n",
            "updating: sample_data/ (stored 0%)\n",
            "updating: sample_data/anscombe.json (deflated 83%)\n",
            "updating: sample_data/README.md (deflated 42%)\n",
            "updating: sample_data/california_housing_test.csv (deflated 76%)\n",
            "updating: sample_data/mnist_train_small.csv (deflated 88%)\n",
            "updating: sample_data/mnist_test.csv (deflated 88%)\n",
            "updating: sample_data/california_housing_train.csv (deflated 79%)\n"
          ],
          "name": "stdout"
        },
        {
          "output_type": "display_data",
          "data": {
            "application/javascript": [
              "\n",
              "    async function download(id, filename, size) {\n",
              "      if (!google.colab.kernel.accessAllowed) {\n",
              "        return;\n",
              "      }\n",
              "      const div = document.createElement('div');\n",
              "      const label = document.createElement('label');\n",
              "      label.textContent = `Downloading \"${filename}\": `;\n",
              "      div.appendChild(label);\n",
              "      const progress = document.createElement('progress');\n",
              "      progress.max = size;\n",
              "      div.appendChild(progress);\n",
              "      document.body.appendChild(div);\n",
              "\n",
              "      const buffers = [];\n",
              "      let downloaded = 0;\n",
              "\n",
              "      const channel = await google.colab.kernel.comms.open(id);\n",
              "      // Send a message to notify the kernel that we're ready.\n",
              "      channel.send({})\n",
              "\n",
              "      for await (const message of channel.messages) {\n",
              "        // Send a message to notify the kernel that we're ready.\n",
              "        channel.send({})\n",
              "        if (message.buffers) {\n",
              "          for (const buffer of message.buffers) {\n",
              "            buffers.push(buffer);\n",
              "            downloaded += buffer.byteLength;\n",
              "            progress.value = downloaded;\n",
              "          }\n",
              "        }\n",
              "      }\n",
              "      const blob = new Blob(buffers, {type: 'application/binary'});\n",
              "      const a = document.createElement('a');\n",
              "      a.href = window.URL.createObjectURL(blob);\n",
              "      a.download = filename;\n",
              "      div.appendChild(a);\n",
              "      a.click();\n",
              "      div.remove();\n",
              "    }\n",
              "  "
            ],
            "text/plain": [
              "<IPython.core.display.Javascript object>"
            ]
          },
          "metadata": {
            "tags": []
          }
        },
        {
          "output_type": "display_data",
          "data": {
            "application/javascript": [
              "download(\"download_11baffdc-327e-460f-91e0-b8345cb054a2\", \"data.zip\", 7152402)"
            ],
            "text/plain": [
              "<IPython.core.display.Javascript object>"
            ]
          },
          "metadata": {
            "tags": []
          }
        }
      ]
    }
  ]
}